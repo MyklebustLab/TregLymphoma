{
 "cells": [
  {
   "cell_type": "code",
   "execution_count": 4,
   "metadata": {
    "scrolled": true
   },
   "outputs": [
    {
     "name": "stdout",
     "output_type": "stream",
     "text": [
      "FL_controll_s0_p3_r1_a1_ac.txt\n",
      "TA39_IV_s0_p4_r6_a6_ac.txt\n",
      "TA51_s0_p3_r17_a17_ac.txt\n"
     ]
    }
   ],
   "source": [
    "import pandas as pd\n",
    "from sklearn import preprocessing\n",
    "from sklearn.preprocessing import RobustScaler\n",
    "import numpy as np\n",
    "import sklearn as sk\n",
    "import os\n",
    "import glob\n",
    "\n",
    "#robust scaling for imaging\n",
    "os.chdir('~/Desktop/hyperion_normalization/input_files_2')\n",
    "filenames = sorted(glob.glob('*.txt'))\n",
    "filenames = filenames[0:94]\n",
    "#df = pd.read_csv(filenames[0],sep='\\t')\n",
    "\n",
    "for filename in filenames:\n",
    "    print(filename)\n",
    "    df = pd.read_csv(filename,sep='\\t')\n",
    "    #df.append(df_temp)\n",
    "    #print(filenames) \n",
    "        \n",
    "#data to be normalized excluding the columns listed \n",
    "    df1=df[df.columns[~df.columns.isin(['ImageId','CellId','MinorAxisLength','Orientation','X_position','Y_position','Percent_Touching','Area','Eccentricity','Solidity','Extent','EulerNumber','Perimeter','MajorAxisLength','134Xe_Xe134','80ArAr_ArAr80','FOXP3_Gd155','Ir193_Ir193','LAG3_Eu153','OX40_Eu151','PD1_Ho165','TIGIT_Dy160','_Ba138','_Ce140','_Gd157','_La139','_Lu176','_Nd144','_Sm147','_Yb172'])]]\n",
    "    df1    \n",
    "    #separate dataframe of columns excluded from normalization\n",
    "    df2=df[df.columns[df.columns.isin(['MinorAxisLength','Orientation','X_position','Y_position','Percent_Touching','Area','Eccentricity','Solidity','Extent','EulerNumber','Perimeter','MajorAxisLength','134Xe_Xe134','80ArAr_ArAr80','FOXP3_Gd155','Ir193_Ir193','LAG3_Eu153','OX40_Eu151','PD1_Ho165','TIGIT_Dy160','_Ba138','_Ce140','_Gd157','_La139','_Lu176','_Nd144','_Sm147','_Yb172'])]]\n",
    "    df2\n",
    "    df3=df[df.columns[df.columns.isin(['ImageId','CellId'])]]\n",
    "    \n",
    "    \n",
    "    def robust_scaling(df):\n",
    "        # copy the dataframe\n",
    "        df_robust = df.copy()\n",
    "        # apply robust scaling\n",
    "        for column in df_robust.columns:\n",
    "            df_robust[column] = (df_robust[column] - df_robust[column].median())  / (df_robust[column].quantile(0.99) - df_robust[column].quantile(0.1))\n",
    "        return df_robust\n",
    "    \n",
    "        #call the robust_scaling function\n",
    "    df_RScaled = robust_scaling(df1)\n",
    "    df_scaled = pd.DataFrame(df_RScaled,columns=df1.columns, index=df.index)\n",
    "    #print(df_scaled)\n",
    "    df_scaled2 = df_scaled.add_suffix('_Norm_robust')\n",
    "    df_scaled_concat=pd.concat([df3,df_scaled2,df1,df2],axis=1)\n",
    "    #df_scaled_concat\n",
    "    #writing data\n",
    "    \n",
    "    df_scaled_concat.to_csv('Norm_Robust_0.99_'+ filename + '.csv',index=False)"
   ]
  },
  {
   "cell_type": "code",
   "execution_count": 5,
   "metadata": {},
   "outputs": [
    {
     "data": {
      "text/plain": [
       "Text(0.5, 1.0, 'The robust Scaling and minmax')"
      ]
     },
     "execution_count": 5,
     "metadata": {},
     "output_type": "execute_result"
    },
    {
     "data": {
      "image/png": "[encoded data removed]",
      "text/plain": [
       "<Figure size 432x288 with 1 Axes>"
      ]
     },
     "metadata": {
      "needs_background": "light"
     },
     "output_type": "display_data"
    }
   ],
   "source": [
    " # scatter plot of the data after applying min-max scaling\n",
    "import seaborn as sns\n",
    "import numpy as np\n",
    "import matplotlib.pyplot as plt\n",
    "import matplotlib.colors as colors\n",
    "import matplotlib.cbook as cbook\n",
    "sns.color_palette(\"rocket\", as_cmap=True)\n",
    "#minmax\n",
    "\n",
    "sns.scatterplot(x='CD163_Dy163', y='CD16_Nd146', data=df_RScaled, s=100)\n",
    "\n",
    "# xticks and yticks\n",
    "#plt.xticks(fontsize=14)\n",
    "#plt.yticks(fontsize=14)\n",
    "\n",
    "# labels and title\n",
    "plt.xlabel('CD163_Dy163', fontsize=8)\n",
    "plt.ylabel('CD16_Nd146', fontsize=8)\n",
    "plt.title('The robust Scaling', fontsize=11)"
   ]
  }
 ],
 "metadata": {
  "kernelspec": {
   "display_name": "Python 3",
   "language": "python",
   "name": "python3"
  },
  "language_info": {
   "codemirror_mode": {
    "name": "ipython",
    "version": 3
   },
   "file_extension": ".py",
   "mimetype": "text/x-python",
   "name": "python",
   "nbconvert_exporter": "python",
   "pygments_lexer": "ipython3",
   "version": "3.8.5"
  }
 },
 "nbformat": 4,
 "nbformat_minor": 4
}
