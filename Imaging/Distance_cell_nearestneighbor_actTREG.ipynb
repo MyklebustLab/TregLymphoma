{
 "cells": [
  {
   "cell_type": "code",
   "execution_count": 1,
   "id": "baking-proportion",
   "metadata": {},
   "outputs": [
    {
     "name": "stdout",
     "output_type": "stream",
     "text": [
      "99_20190508_Bergen1_50_s1_p4_r3_a3_ac\n",
      "['Norm_Robust_0', '99_20190508_Bergen1_50_s1_p4_r3_a3_ac', 'txt_Ungated_viSNE_CD8Foll', 'fcs_file_internal_comp_Ungated', 'txt']\n",
      "txt_Ungated_viSNE_CD8Foll\n",
      "99_2019-01-23-s0236_p0029_c0061_-_5Concs_templated_s1_p5_r5_a5_ac\n",
      "['Norm_Robust_0', '99_2019-01-23-s0236_p0029_c0061_-_5Concs_templated_s1_p5_r5_a5_ac', 'txt_Ungated_viSNE_actTreg_file_internal_comp_Ungated', 'txt']\n",
      "txt_Ungated_viSNE_actTreg_file_internal_comp_Ungated\n"
     ]
    }
   ],
   "source": [
    "#importing files and extracting metadata from the file names to compute distance of other celltypes from actTreg\n",
    "##Using Robust scaling (1st – 99th percentile) was performed on each marker from each image.  \n",
    "##\n",
    "import os\n",
    "import glob\n",
    "import numpy as np\n",
    "import pandas as pd\n",
    "sampleName = {} \n",
    "#print(\"fsd\")\n",
    "for root, directories, files in os.walk(\"../../DISTANCE_CELL/DISTANCE_ALL_IMAGE/INPUT_ALL_IMAGE/TREG_Follicule_experiment_15875_exported_events_spill_applied_events/\"):\n",
    "#for root, directories, files in os.walk(\"../DISTANCE_ALL_IMAGE/INPUT_ALL_IMAGE/TREG_experiment_15814_exported_events_spill_applied_events/\"):\n",
    "    for complete_filename in files:\n",
    "        #print(filename)\n",
    "        filename=complete_filename.split('.')\n",
    "        sample=filename[1]\n",
    "        if sample in sampleName.keys():\n",
    "            \n",
    "            if \"actTreg\" in filename[2]:\n",
    "                sampleName[sample][\"actTreg\"]=complete_filename\n",
    "            else:\n",
    "                if \"rest\" not in sampleName[sample].keys():\n",
    "                    sampleName[sample][\"rest\"]=[complete_filename]\n",
    "                else:\n",
    "                    sampleName[sample][\"rest\"].append(complete_filename)\n",
    "            \n",
    "        else:\n",
    "            \n",
    "            sampleName[sample]={}\n",
    "            print(sample) \n",
    "            print(filename)\n",
    "            print(filename[2])\n",
    "            \n",
    "            if \"actTreg\" in filename[2]:\n",
    "                sampleName[sample][\"actTreg\"]=complete_filename\n",
    "            else:\n",
    "                if \"rest\" not in sampleName[sample].keys():\n",
    "                    sampleName[sample][\"rest\"]=[complete_filename]\n",
    "                else:\n",
    "                    sampleName[sample][\"rest\"].append(complete_filename)"
   ]
  },
  {
   "cell_type": "code",
   "execution_count": 2,
   "id": "needed-jason",
   "metadata": {},
   "outputs": [
    {
     "name": "stdout",
     "output_type": "stream",
     "text": [
      "#########################\n",
      "sample name:   99_20190508_Bergen1_50_s1_p4_r3_a3_ac\n",
      "rest files:    \n",
      "['Norm_Robust_0.99_20190508_Bergen1_50_s1_p4_r3_a3_ac.txt_Ungated_viSNE_CD8Foll.fcs_file_internal_comp_Ungated.txt', 'Norm_Robust_0.99_20190508_Bergen1_50_s1_p4_r3_a3_ac.txt_Ungated_viSNE_TumorFoll.fcs_file_internal_comp_Ungated.txt', 'Norm_Robust_0.99_20190508_Bergen1_50_s1_p4_r3_a3_ac.txt_Ungated_viSNE_CD4Foll.fcs_file_internal_comp_Ungated.txt', 'Norm_Robust_0.99_20190508_Bergen1_50_s1_p4_r3_a3_ac.txt_Ungated_viSNE_TFHFoll.fcs_file_internal_comp_Ungated.txt', 'Norm_Robust_0.99_20190508_Bergen1_50_s1_p4_r3_a3_ac.txt_Ungated_viSNE_MFoll.fcs_file_internal_comp_Ungated.txt']\n",
      "actTreg file:    \n",
      "Norm_Robust_0.99_20190508_Bergen1_50_s1_p4_r3_a3_ac.txt_Ungated_viSNE_actTreg.fcs_file_internal_comp_Ungated.txt\n",
      "#########################\n",
      "sample name:   99_2019-01-23-s0236_p0029_c0061_-_5Concs_templated_s1_p5_r5_a5_ac\n",
      "rest files:    \n",
      "['Norm_Robust_0.99_2019-01-23-s0236_p0029_c0061_-_5Concs_templated_s1_p5_r5_a5_ac.txt_Ungated_viSNE_CD8Foll_file_internal_comp_Ungated.txt', 'Norm_Robust_0.99_2019-01-23-s0236_p0029_c0061_-_5Concs_templated_s1_p5_r5_a5_ac.txt_Ungated_viSNE_MFoll_file_internal_comp_Ungated.txt', 'Norm_Robust_0.99_2019-01-23-s0236_p0029_c0061_-_5Concs_templated_s1_p5_r5_a5_ac.txt_Ungated_viSNE_CD4Foll_file_internal_comp_Ungated.txt', 'Norm_Robust_0.99_2019-01-23-s0236_p0029_c0061_-_5Concs_templated_s1_p5_r5_a5_ac.txt_Ungated_viSNE_TumorFoll_file_internal_comp_Ungated.txt', 'Norm_Robust_0.99_2019-01-23-s0236_p0029_c0061_-_5Concs_templated_s1_p5_r5_a5_ac.txt_Ungated_viSNE_TFHFoll_file_internal_comp_Ungated.txt']\n",
      "actTreg file:    \n",
      "Norm_Robust_0.99_2019-01-23-s0236_p0029_c0061_-_5Concs_templated_s1_p5_r5_a5_ac.txt_Ungated_viSNE_actTreg_file_internal_comp_Ungated.txt\n"
     ]
    }
   ],
   "source": [
    "for sample in sampleName.keys():\n",
    "    print(\"#########################\")\n",
    "    print(\"sample name:  \",sample)\n",
    "    print(\"rest files:    \")\n",
    "    print(sampleName[sample][\"rest\"])\n",
    "    print(\"actTreg file:    \")\n",
    "    print(sampleName[sample][\"actTreg\"])\n",
    "#filename\n",
    "    "
   ]
  },
  {
   "cell_type": "code",
   "execution_count": 3,
   "id": "underlying-alabama",
   "metadata": {},
   "outputs": [],
   "source": [
    "#Calculating nearest neighbors for the ACTIVATED TREGS COLUMN WISE , \n",
    "def CalculateDistance(tumor_coords,rest_coords,mDist_filename):\n",
    "    actTreg_coords[['X_position','Y_position']]\n",
    "    rest_coords[['X_position','Y_position']]\n",
    "    from scipy.spatial import distance\n",
    "    celldist=distance.cdist(actTreg_coords[['X_position','Y_position']], rest_coords[['X_position','Y_position']], 'euclidean')\n",
    "    celldist = pd.DataFrame(celldist)\n",
    "    celldist.columns=rest_coords.CellId\n",
    "    celldist.index=actTreg_coords.CellId\n",
    "    #calculation Rowwise minimum and column at the end of file\n",
    "    #celldist['min_dist']=np.min(celldist,axis=1)\n",
    "    #calculationcolumnwise minimum and outputs the distance in the file\n",
    "    dist=np.min(celldist,axis=0)\n",
    "    dist_min = pd.DataFrame(celldist)\n",
    "    #dist_min= pd.concat(celldist,dist)\n",
    "    OutdDir='~/Dropbox/LymphomaBiology/HYPERION_DLBCL/DISTANCE_CELL/DISTANCE_ALL_IMAGE/OUTPUTS/Mdist_Output_TREG_Follicule_experiment_15875_exported_events_spill_applied_events_columnwise/'\n",
    "\n",
    "    mDist_filename=OutdDir+mDist_filename\n",
    "    dist.to_csv(mDist_filename,index=True)"
   ]
  },
  {
   "cell_type": "code",
   "execution_count": 4,
   "id": "packed-gasoline",
   "metadata": {},
   "outputs": [
    {
     "name": "stdout",
     "output_type": "stream",
     "text": [
      "/Users/ankushs/Dropbox (UiO)/LymphomaBiology/HYPERION_DLBCL/DISTANCE_CELL/DISTANCE_ALL_IMAGE/INPUT_ALL_IMAGE/TREG_Follicule_experiment_15875_exported_events_spill_applied_events/Norm_Robust_0.99_20190508_Bergen1_50_s1_p4_r3_a3_ac.txt_Ungated_viSNE_CD8Foll.fcs_file_internal_comp_Ungated.txt\n",
      "/Users/ankushs/Dropbox (UiO)/LymphomaBiology/HYPERION_DLBCL/DISTANCE_CELL/DISTANCE_ALL_IMAGE/INPUT_ALL_IMAGE/TREG_Follicule_experiment_15875_exported_events_spill_applied_events/Norm_Robust_0.99_20190508_Bergen1_50_s1_p4_r3_a3_ac.txt_Ungated_viSNE_TumorFoll.fcs_file_internal_comp_Ungated.txt\n",
      "/Users/ankushs/Dropbox (UiO)/LymphomaBiology/HYPERION_DLBCL/DISTANCE_CELL/DISTANCE_ALL_IMAGE/INPUT_ALL_IMAGE/TREG_Follicule_experiment_15875_exported_events_spill_applied_events/Norm_Robust_0.99_20190508_Bergen1_50_s1_p4_r3_a3_ac.txt_Ungated_viSNE_CD4Foll.fcs_file_internal_comp_Ungated.txt\n",
      "/Users/ankushs/Dropbox (UiO)/LymphomaBiology/HYPERION_DLBCL/DISTANCE_CELL/DISTANCE_ALL_IMAGE/INPUT_ALL_IMAGE/TREG_Follicule_experiment_15875_exported_events_spill_applied_events/Norm_Robust_0.99_20190508_Bergen1_50_s1_p4_r3_a3_ac.txt_Ungated_viSNE_TFHFoll.fcs_file_internal_comp_Ungated.txt\n",
      "/Users/ankushs/Dropbox (UiO)/LymphomaBiology/HYPERION_DLBCL/DISTANCE_CELL/DISTANCE_ALL_IMAGE/INPUT_ALL_IMAGE/TREG_Follicule_experiment_15875_exported_events_spill_applied_events/Norm_Robust_0.99_20190508_Bergen1_50_s1_p4_r3_a3_ac.txt_Ungated_viSNE_MFoll.fcs_file_internal_comp_Ungated.txt\n",
      "/Users/ankushs/Dropbox (UiO)/LymphomaBiology/HYPERION_DLBCL/DISTANCE_CELL/DISTANCE_ALL_IMAGE/INPUT_ALL_IMAGE/TREG_Follicule_experiment_15875_exported_events_spill_applied_events/Norm_Robust_0.99_2019-01-23-s0236_p0029_c0061_-_5Concs_templated_s1_p5_r5_a5_ac.txt_Ungated_viSNE_CD8Foll_file_internal_comp_Ungated.txt\n",
      "/Users/ankushs/Dropbox (UiO)/LymphomaBiology/HYPERION_DLBCL/DISTANCE_CELL/DISTANCE_ALL_IMAGE/INPUT_ALL_IMAGE/TREG_Follicule_experiment_15875_exported_events_spill_applied_events/Norm_Robust_0.99_2019-01-23-s0236_p0029_c0061_-_5Concs_templated_s1_p5_r5_a5_ac.txt_Ungated_viSNE_MFoll_file_internal_comp_Ungated.txt\n",
      "/Users/ankushs/Dropbox (UiO)/LymphomaBiology/HYPERION_DLBCL/DISTANCE_CELL/DISTANCE_ALL_IMAGE/INPUT_ALL_IMAGE/TREG_Follicule_experiment_15875_exported_events_spill_applied_events/Norm_Robust_0.99_2019-01-23-s0236_p0029_c0061_-_5Concs_templated_s1_p5_r5_a5_ac.txt_Ungated_viSNE_CD4Foll_file_internal_comp_Ungated.txt\n",
      "/Users/ankushs/Dropbox (UiO)/LymphomaBiology/HYPERION_DLBCL/DISTANCE_CELL/DISTANCE_ALL_IMAGE/INPUT_ALL_IMAGE/TREG_Follicule_experiment_15875_exported_events_spill_applied_events/Norm_Robust_0.99_2019-01-23-s0236_p0029_c0061_-_5Concs_templated_s1_p5_r5_a5_ac.txt_Ungated_viSNE_TumorFoll_file_internal_comp_Ungated.txt\n",
      "/Users/ankushs/Dropbox (UiO)/LymphomaBiology/HYPERION_DLBCL/DISTANCE_CELL/DISTANCE_ALL_IMAGE/INPUT_ALL_IMAGE/TREG_Follicule_experiment_15875_exported_events_spill_applied_events/Norm_Robust_0.99_2019-01-23-s0236_p0029_c0061_-_5Concs_templated_s1_p5_r5_a5_ac.txt_Ungated_viSNE_TFHFoll_file_internal_comp_Ungated.txt\n"
     ]
    }
   ],
   "source": [
    "homeDir='~/Dropbox/LymphomaBiology/HYPERION_DLBCL/DISTANCE_CELL/DISTANCE_ALL_IMAGE/INPUT_ALL_IMAGE/TREG_Follicule_experiment_15875_exported_events_spill_applied_events/'\n",
    "import pandas as pd\n",
    "for sample in sampleName.keys():\n",
    "    actTreg_file=homeDir+sampleName[sample][\"actTreg\"]\n",
    "    actTreg_coords =pd.read_csv(actTreg_file,'\\t')\n",
    "    \n",
    "    for rest_file in sampleName[sample][\"rest\"]:\n",
    "        rest_type=rest_file.split(\".\")[2]\n",
    "        \n",
    "        rest_file=homeDir+rest_file\n",
    "        rest_coords =pd.read_csv(rest_file,'\\t')\n",
    "        \n",
    "        mDist_filename=\"mDist_\"+sample+\"_\"+rest_type+\".txt\"\n",
    "        CalculateDistance(actTreg_coords,rest_coords,mDist_filename)\n",
    "        print(rest_file)"
   ]
  },
  {
   "cell_type": "code",
   "execution_count": null,
   "id": "verbal-memory",
   "metadata": {},
   "outputs": [],
   "source": []
  }
 ],
 "metadata": {
  "kernelspec": {
   "display_name": "Python 3",
   "language": "python",
   "name": "python3"
  },
  "language_info": {
   "codemirror_mode": {
    "name": "ipython",
    "version": 3
   },
   "file_extension": ".py",
   "mimetype": "text/x-python",
   "name": "python",
   "nbconvert_exporter": "python",
   "pygments_lexer": "ipython3",
   "version": "3.8.5"
  }
 },
 "nbformat": 4,
 "nbformat_minor": 5
}
